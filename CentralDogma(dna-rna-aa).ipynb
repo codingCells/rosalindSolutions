{
 "cells": [
  {
   "cell_type": "code",
   "execution_count": 13,
   "id": "20a8ae66",
   "metadata": {},
   "outputs": [],
   "source": [
    "#RNA-Codon Dict\n",
    "f = open('codons.txt', 'r')\n",
    "contents = f.readlines()\n",
    "codList = {}\n",
    "for line in contents:\n",
    "    codList[line[0:3]] = line[4]\n",
    "\n",
    "def transcribeDNA(dna):\n",
    "    #flipDNA = dna[::-1]\n",
    "    rna = dna.replace('T', 'U')\n",
    "    return rna\n",
    "    \n",
    "def reverseComp(rna):\n",
    "    rna = rna[::-1]\n",
    "    output = \"\"\n",
    "    for i in rna:\n",
    "        if(i == \"A\"):\n",
    "            output += \"U\"\n",
    "        elif(i == \"U\"):\n",
    "            output += \"A\"\n",
    "        elif(i == \"C\"):\n",
    "            output += \"G\"\n",
    "        elif(i == \"G\"):\n",
    "            output += \"C\"\n",
    "    return output        \n",
    "    \n",
    "def translateRNA(rna, i):\n",
    "    prot = \"\"\n",
    "    while i < len(rna)-3:\n",
    "        nextCod = codList[rna[i:i+3]]\n",
    "        if (nextCod == '!'):\n",
    "            if prot not in solution:\n",
    "                solution.append(prot)\n",
    "            break\n",
    "        prot += nextCod\n",
    "        #print(prot)\n",
    "        i += 3\n",
    "    #print(\"nope: \", prot)\n",
    "    return(prot)\n",
    "\n",
    "def findPossible(data):\n",
    "    curr = 0\n",
    "    end = len(data)-3\n",
    "    while curr < end:\n",
    "        if(data[curr:curr+3] == 'AUG'):\n",
    "            translateRNA(data,curr)\n",
    "        curr += 1"
   ]
  },
  {
   "cell_type": "markdown",
   "id": "69e46af7",
   "metadata": {},
   "source": [
    "# Open Reading Frames\n",
    "## Transcription May Begin Anywhere\n",
    "#### Problem\n",
    "Either strand of a DNA double helix can serve as the coding strand for RNA transcription. Hence, a given DNA string implies six total reading frames, or ways in which the same region of DNA can be translated into amino acids: three reading frames result from reading the string itself, whereas three more result from reading its reverse complement.\n",
    "\n",
    "An open reading frame (ORF) is one which starts from the start codon and ends by stop codon, without any other stop codons in between. Thus, a candidate protein string is derived by translating an open reading frame into amino acids until a stop codon is reached.\n",
    "\n",
    "#### Given: A DNA string s of length at most 1 kbp in FASTA format.\n",
    "\n",
    "#### Return: Every distinct candidate protein string that can be translated from ORFs of s. Strings can be returned in any order."
   ]
  },
  {
   "cell_type": "code",
   "execution_count": 4,
   "id": "f9fab363",
   "metadata": {},
   "outputs": [
    {
     "name": "stdout",
     "output_type": "stream",
     "text": [
      "MAGKRPRASRGESIARIECNSSDHRH\n",
      "MQ\n",
      "MARPES\n",
      "MRGPGVYSDDSHLTRF\n",
      "MRIVGSEPLAFVASFNNACS\n",
      "MSPS\n",
      "MRMARPES\n",
      "MPVVATIAFYSCD\n",
      "MPSCNYRRNEWLLGSTNT\n",
      "MSPTTERVVARASSPPEYTAD\n"
     ]
    }
   ],
   "source": [
    "d = open('rosalind_orf.txt', 'r')\n",
    "dCont = d.readlines()\n",
    "inpStr=\"\"\n",
    "for i in dCont:\n",
    "    inpStr+=i.strip()\n",
    "#inpStr = \"AGCCATGTAGCTAACTCAGGTTACATGGGGATGACCCCGCGACTTGGATTAGAGTCTCTTTTGGAATAAGCCTGAATGATCCGAGTAGCATCTCAG\"\n",
    "solution = []\n",
    "\n",
    "newRNA = transcribeDNA(inpStr)\n",
    "findPossible(newRNA)\n",
    "revRNA = reverseComp(newRNA)\n",
    "findPossible(revRNA)\n",
    "print(*solution, sep='\\n')"
   ]
  },
  {
   "cell_type": "markdown",
   "id": "1e49af35",
   "metadata": {},
   "source": [
    "# RNA Splicing\n",
    "## Genes are Discontiguous\n",
    "#### Problem\n",
    "After identifying the exons and introns of an RNA string, we only need to delete the introns and concatenate the exons to form a new string ready for translation.\n",
    "\n",
    "#### Given: A DNA string s (of length at most 1 kbp) and a collection of substrings of s acting as introns. All strings are given in FASTA format.\n",
    "\n",
    "#### Return: A protein string resulting from transcribing and translating the exons of s. (Note: Only one solution will exist for the dataset provided.)"
   ]
  },
  {
   "cell_type": "code",
   "execution_count": 17,
   "id": "43cac381",
   "metadata": {},
   "outputs": [
    {
     "name": "stdout",
     "output_type": "stream",
     "text": [
      "MESDELSRLSHRPRDPRVSTELLIAHIRSQIRLPIRDINFIHVGCALPASLRASGTRYLPKASCLLSPCILWRGLRFCVLVSGSGSRSHGDPDAFRYVRSPLKYLARDDVLSAWYSVRNGDAHPATVCSARDILYLGRAVRCPGGNLSSVAAKYLRYTSPDEYSNARVDFVRAVFRQGLFTGNPPDC\n"
     ]
    }
   ],
   "source": [
    "#rawDNA = \"ATGGTCTACATAGCTGACAAACAGCACGTAGCAATCGGTCGAATCTCGAGAGGCATATGGTCACATGATCGGTCGAGCGTGTTTCAAAGTTTGCGCCTAG\"\n",
    "f = open(\"rnaSplicing.txt\", 'r')\n",
    "contents = f.readlines()\n",
    "first = True\n",
    "for line in contents:\n",
    "    if line[0] != \">\":\n",
    "        if first:\n",
    "            rawDNA = line.strip()\n",
    "            #print(rawDNA)\n",
    "            #print(\"------------------------\")\n",
    "            first = False\n",
    "        else:\n",
    "            #print(line)\n",
    "            #print(rawDNA.find(line))\n",
    "            rawDNA = rawDNA.replace(line.strip(), \"\")\n",
    "#print(rawDNA)\n",
    "\n",
    "newRNA = transcribeDNA(rawDNA)\n",
    "#print(newRNA[0:3])\n",
    "print(translateRNA(newRNA, 0))"
   ]
  },
  {
   "cell_type": "code",
   "execution_count": null,
   "id": "c5fcb2f1",
   "metadata": {},
   "outputs": [],
   "source": []
  }
 ],
 "metadata": {
  "kernelspec": {
   "display_name": "Python 3 (ipykernel)",
   "language": "python",
   "name": "python3"
  },
  "language_info": {
   "codemirror_mode": {
    "name": "ipython",
    "version": 3
   },
   "file_extension": ".py",
   "mimetype": "text/x-python",
   "name": "python",
   "nbconvert_exporter": "python",
   "pygments_lexer": "ipython3",
   "version": "3.8.10"
  }
 },
 "nbformat": 4,
 "nbformat_minor": 5
}
