{
 "cells": [
  {
   "cell_type": "markdown",
   "id": "3fda8fc9",
   "metadata": {},
   "source": [
    "# Locating Restriction Sites\n",
    "## The Billion-Year War\n",
    "#### Problem\n",
    "A DNA string is a reverse palindrome if it is equal to its reverse complement. For instance, GCATGC is a reverse palindrome because its reverse complement is GCATGC. See Figure 2.\n",
    "#### Given: A DNA string of length at most 1 kbp in FASTA format.\n",
    "#### Return: The position and length of every reverse palindrome in the string having length between 4 and 12. You may return these pairs in any order."
   ]
  },
  {
   "cell_type": "code",
   "execution_count": null,
   "id": "f05b61c3",
   "metadata": {},
   "outputs": [],
   "source": [
    "f = open(\"rosalind_revp15.txt\", \"r\")\n",
    "contents = f.readlines()\n",
    "inpStr = \"\"\n",
    "for line in contents:\n",
    "    if line[0] != \">\":\n",
    "        inpStr += line.strip()\n",
    "print(inpStr)\n",
    "print(len(inpStr))\n",
    "\n",
    "#inpStr = \"TCAATGCATGCGGGTCTATATGCAT\"       #test strand                   \n",
    "\n",
    "def isComplement(a,b):\n",
    "    if a == \"A\" and b == \"T\":\n",
    "        return True\n",
    "    if a == \"T\" and b == \"A\":\n",
    "        return True\n",
    "    if a == \"C\" and b == \"G\":\n",
    "        return True\n",
    "    if a == \"G\" and b == \"C\":\n",
    "        return True\n",
    "    return False\n",
    "def recursiveCheck(che, c, t):\n",
    "    #print(che[0], che[-1], che)\n",
    "    if isComplement(che[0],che[-1]):\n",
    "        #print(\"checking\")\n",
    "        if(len(che[1:-1]) == 0):\n",
    "            print(c, t)\n",
    "            #print(\"------------------\")\n",
    "            return True\n",
    "        recursiveCheck(che[1:-1], c, t)\n",
    "    else:\n",
    "        #print(\"--------------------\")\n",
    "        return False\n",
    "    \n",
    "\n",
    "testSt = 4\n",
    "testEnd = 13\n",
    "end = len(inpStr) - testSt\n",
    "curr = 0\n",
    "while curr < end +1:\n",
    "    testCurr = testSt\n",
    "    currAA = inpStr[curr]\n",
    "    if curr > len(inpStr)-12:\n",
    "        testEnd = len(inpStr) - curr + 1\n",
    "        #print(\"CurrIndex: \", curr, len(inpStr), \" TestEnd: \", testEnd, curr+testEnd, \"testCurr\", testCurr)\n",
    "        #print(\"CurrIndex: \",curr,\" CurrAA: \",currAA,\" EndAA: \",inpStr[posEnd-1],\" TestCurr: \",testCurr,inpStr[curr:posEnd])\n",
    "    while testCurr < testEnd:\n",
    "        posEnd = testCurr + curr\n",
    "        if isComplement(currAA, inpStr[posEnd-1]):\n",
    "            #print(\"Sent: \", inpStr[curr+1:posEnd-1])\n",
    "            recursiveCheck(inpStr[curr+1:posEnd-1], curr +1, testCurr)\n",
    "        testCurr += 2\n",
    "    curr += 1"
   ]
  }
 ],
 "metadata": {
  "kernelspec": {
   "display_name": "Python 3 (ipykernel)",
   "language": "python",
   "name": "python3"
  },
  "language_info": {
   "codemirror_mode": {
    "name": "ipython",
    "version": 3
   },
   "file_extension": ".py",
   "mimetype": "text/x-python",
   "name": "python",
   "nbconvert_exporter": "python",
   "pygments_lexer": "ipython3",
   "version": "3.8.10"
  }
 },
 "nbformat": 4,
 "nbformat_minor": 5
}
